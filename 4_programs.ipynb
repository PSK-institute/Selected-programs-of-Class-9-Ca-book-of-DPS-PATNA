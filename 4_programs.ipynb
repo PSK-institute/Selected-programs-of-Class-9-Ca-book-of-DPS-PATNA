{
  "nbformat": 4,
  "nbformat_minor": 0,
  "metadata": {
    "colab": {
      "name": "Untitled0.ipynb",
      "provenance": [],
      "collapsed_sections": [
        "qcNMVMPmXF5T",
        "YgJv3FmqcCrJ",
        "XReqo0TEXCq3",
        "JZozxnvWY88t",
        "e3jfg8e5ZeNe"
      ],
      "authorship_tag": "ABX9TyPXT2zegpvBRIyNU2Z44e+W",
      "include_colab_link": true
    },
    "kernelspec": {
      "name": "python3",
      "display_name": "Python 3"
    }
  },
  "cells": [
    {
      "cell_type": "markdown",
      "metadata": {
        "id": "view-in-github",
        "colab_type": "text"
      },
      "source": [
        "<a href=\"https://colab.research.google.com/github/PSK-institute/Selected-programs-of-Class-9-Ca-book-of-DPS-PATNA/blob/master/4_programs.ipynb\" target=\"_parent\"><img src=\"https://colab.research.google.com/assets/colab-badge.svg\" alt=\"Open In Colab\"/></a>"
      ]
    },
    {
      "cell_type": "markdown",
      "metadata": {
        "id": "qcNMVMPmXF5T",
        "colab_type": "text"
      },
      "source": [
        "#***This is the some selected programs of Python chapter class XI DPS, Patna CA book***\n",
        "\n",
        "\n"
      ]
    },
    {
      "cell_type": "markdown",
      "metadata": {
        "id": "YgJv3FmqcCrJ",
        "colab_type": "text"
      },
      "source": [
        "> ##   **|| >>PSK<< This program takes 3 inputs and give the sum!**"
      ]
    },
    {
      "cell_type": "code",
      "metadata": {
        "id": "KJE_w5Tt3EZY",
        "colab_type": "code",
        "colab": {}
      },
      "source": [
        "print(\"this is sum program\"\"\\n\")\n",
        "\n",
        "try:\n",
        "  a = float(input(\"give the first number \"))\n",
        "  b = float(input(\"give the first number \"))\n",
        "  c = float(input(\"give the first number \"))\n",
        "\n",
        "  print(\"\\n\")\n",
        "  print (\"the sum is =\", a+b+c)\n",
        "\n",
        "except ValueError:\n",
        "  print(\"Give number onlllllllllllllllllllllllllllllllllllllllllllllllllly!!!!\")"
      ],
      "execution_count": 0,
      "outputs": []
    },
    {
      "cell_type": "markdown",
      "metadata": {
        "id": "XReqo0TEXCq3",
        "colab_type": "text"
      },
      "source": [
        "\n",
        "\n",
        ">> ##  ** ||| >>PSK<< This program tells the length, breadth or area of rectangle!!** \n",
        "\n"
      ]
    },
    {
      "cell_type": "code",
      "metadata": {
        "id": "U0_ByQYK4KbC",
        "colab_type": "code",
        "colab": {}
      },
      "source": [
        "print(\"this is rectangle program\"\"\\n\")\n",
        "\n",
        "op = \"tttt\"\n",
        "\n",
        "while op == \"tttt\":\n",
        "  try:\n",
        "    t = input(\"l for length\"\"\\n\"\"b for breadth\"\"\\n\"\"a for area ==>\")\n",
        "\n",
        "    print(\"\\n\")\n",
        "  \n",
        "    if t == \"l\":\n",
        "      op = \"dddd\"\n",
        "      d = float(input(\"give the area \"))\n",
        "      e = float(input(\"give the braedth \"))\n",
        "\n",
        "      print(\"length is\", d/e) \n",
        "  \n",
        "    elif t == \"b\":\n",
        "      op = \"dddd\"\n",
        "      d = float(input(\"give the area \"))\n",
        "      f = float(input(\"give the length \"))\n",
        "  \n",
        "      print(\"breadth is\", d/f)\n",
        "\n",
        "    elif t == \"a\":\n",
        "      op = \"dddd\"\n",
        "      f = float(input(\"give the length \"))\n",
        "      e = float(input(\"give the braedth \"))\n",
        "      print(\"area is\", f*e) \n",
        "\n",
        "    else:\n",
        "      print(\"Give correct input\")\n",
        "\n",
        "  except ValueError:\n",
        "    print(\"Give number onlllllllllllllllllllllllllllllllllllllllllllllllllly!!!!\")\n"
      ],
      "execution_count": 0,
      "outputs": []
    },
    {
      "cell_type": "markdown",
      "metadata": {
        "id": "JZozxnvWY88t",
        "colab_type": "text"
      },
      "source": [
        ">>> ##  **|||| >>PSK<< This program converts the Celsius to Fahrenheit or vice versa !!! **\n"
      ]
    },
    {
      "cell_type": "code",
      "metadata": {
        "id": "77abVhhZ6VpL",
        "colab_type": "code",
        "colab": {}
      },
      "source": [
        "print(\"this is temp. program\"\"\\n\")\n",
        "\n",
        "opp = \"tttt\"\n",
        "\n",
        "while opp == \"tttt\":\n",
        "  try:\n",
        "    print(\"C for\", u\"\\u00b0\"\"C\"\"\\n\"\"F for\", u\"\\u00b0\"\"F\")\n",
        "\n",
        "    ty = input(\"==>\")\n",
        "\n",
        "    print(\"\\n\")\n",
        "  \n",
        "    if ty == \"F\":\n",
        "      g = float(input(\"give the input\"))\n",
        "      h = g * 9/5 + 32\n",
        "      opp = \"dddd\"\n",
        "    \n",
        "      print(\"answer =\", h, u\"\\u00b0\"\"C\")\n",
        "  \n",
        "    elif ty == \"C\":\n",
        "      i = float(input(\"give the input\"))\n",
        "      h = i* 5/9 -32\n",
        "      opp = \"dddd\"\n",
        "  \n",
        "      print(\"answer =\", h, u\"\\u00b0\"\"F\")\n",
        "\n",
        "    else:\n",
        "      print(\"Give correct input\")\n",
        "\n",
        "  except ValueError:\n",
        "    print(\"Give number onlllllllllllllllllllllllllllllllllllllllllllllllllly!!!!\")"
      ],
      "execution_count": 0,
      "outputs": []
    },
    {
      "cell_type": "markdown",
      "metadata": {
        "id": "e3jfg8e5ZeNe",
        "colab_type": "text"
      },
      "source": [
        ">>>> ## **||||| >>PSK<< This program tells the radius, circumference or area of circle !!!!** "
      ]
    },
    {
      "cell_type": "code",
      "metadata": {
        "id": "4JVhoFdKCLiJ",
        "colab_type": "code",
        "colab": {}
      },
      "source": [
        "import math \n",
        "\n",
        "print(\"this is circle program\"\"\\n\")\n",
        "\n",
        "oop = \"tttt\"\n",
        "\n",
        "while oop == \"tttt\":\n",
        "  try:\n",
        "    t = input(\"r for radius\"\"\\n\"\"cc\" \"for circumference\"\"\\n\"\"aa for area ==>\")\n",
        "\n",
        "    print(\"\\n\")\n",
        "\n",
        "    if t == \"r\":  \n",
        "      dd = float(input(\"give the area\"))\n",
        "      v = math.sqrt(dd/ math.pi)\n",
        "      oop = \"dddd\"\n",
        "\n",
        "      print(\"radius is\", v) \n",
        "\n",
        "    elif t == \"cc\":\n",
        "      de = float(input(\"give the radius\"))\n",
        "      oop = \"dddd\"\n",
        "\n",
        "      print(\"circumference is\", 2*math.pi*de)\n",
        "\n",
        "    elif t == \"aa\":\n",
        "      df = float(input(\"give the radius\"))\n",
        "      oop = \"dddd\"\n",
        "\n",
        "      print(\"area is\", math.pi*df**2)\n",
        "    \n",
        "    else:\n",
        "      print(\"Give correct input\")\n",
        "\n",
        "  except ValueError:\n",
        "    print(\"Give number onlllllllllllllllllllllllllllllllllllllllllllllllllly!!!!\")"
      ],
      "execution_count": 0,
      "outputs": []
    }
  ]
}